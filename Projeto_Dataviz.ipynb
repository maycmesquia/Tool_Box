{
  "nbformat": 4,
  "nbformat_minor": 0,
  "metadata": {
    "kernelspec": {
      "display_name": "Python 3",
      "language": "python",
      "name": "python3"
    },
    "language_info": {
      "codemirror_mode": {
        "name": "ipython",
        "version": 3
      },
      "file_extension": ".py",
      "mimetype": "text/x-python",
      "name": "python",
      "nbconvert_exporter": "python",
      "pygments_lexer": "ipython3",
      "version": "3.8.7"
    },
    "colab": {
      "name": "Projeto - Dataviz.ipynb",
      "provenance": [],
      "collapsed_sections": [],
      "include_colab_link": true
    }
  },
  "cells": [
    {
      "cell_type": "markdown",
      "metadata": {
        "id": "view-in-github",
        "colab_type": "text"
      },
      "source": [
        "<a href=\"https://colab.research.google.com/github/maycmesquia/Evolucao_Aprendizado/blob/main/Projeto_Dataviz.ipynb\" target=\"_parent\"><img src=\"https://colab.research.google.com/assets/colab-badge.svg\" alt=\"Open In Colab\"/></a>"
      ]
    },
    {
      "cell_type": "markdown",
      "metadata": {
        "id": "YJQsJyxpD6sO"
      },
      "source": [
        "# SOMENTE O ITEM 1 É OBRIGATÓRIO PARA APRESENTAÇÃO!"
      ]
    },
    {
      "cell_type": "markdown",
      "metadata": {
        "id": "XvwuYdXeD6sS"
      },
      "source": [
        "# História das Olimpíadas - Parte 2\n",
        "_(créditos ao prof. Rafael Moreira)_"
      ]
    },
    {
      "cell_type": "markdown",
      "metadata": {
        "id": "FfOuihHFD6sT"
      },
      "source": [
        "Você recentemente trabalhou (ou está trabalhando) em uma análise de dados históricos dos jogos olímpicos utilizando o Pandas para auxiliá-lo.\n",
        "\n",
        "Desde que você iniciou seus trabalhos nesse projeto, novas ferramentas bastante poderosas foram ensinadas! O seu papel agora será utilizar essas novas ferramentas para gerar algumas visualizações que tornarão certas informações muito mais claras.\n",
        "\n",
        "Utilize qualquer uma das bibliotecas estudadas (```matplotlib```, ```seaborn``` e ```plotly```) para realizar as atividades propostas. Não há problema em usar apenas uma para realizar todas as atividades, nem em utilizar cada uma delas em uma atividade diferente - siga suas preferências pessoais!\n",
        "\n",
        "Utilize os (muitos) parâmetros permitidos por cada função e/ou atributos dos objetos fornecidos pelas bibliotecas para criar uma identidade visual coesa para ser utilizada em todo o projeto. Use títulos, legendas e rótulos nos eixos para deixar os gráficos verdadeiramente informativos. E não se esqueça que a simples escolha das cores a serem utilizadas pode tornar os gráficos ainda mais interessantes!\n",
        "\n",
        "Você utilizará o mesmo dataset fornecido no projeto anterior. Não há problemas em reaproveitar códigos do projeto anterior para economizar tempo e focar seus esforços na geração dos gráficos.\n",
        "\n",
        "Para começar, importe o Pandas e carregue o arquivo ```athlete_events.csv``` fornecido no projeto anterior."
      ]
    },
    {
      "cell_type": "code",
      "metadata": {
        "colab": {
          "base_uri": "https://localhost:8080/"
        },
        "id": "gDwZ7bP6GiM_",
        "outputId": "543b8888-d24d-4335-a502-a4dd23dd0e3f"
      },
      "source": [
        "# Conectanto ao Google Drive\n",
        "from google.colab import drive\n",
        "drive.mount('/content/drive')"
      ],
      "execution_count": 113,
      "outputs": [
        {
          "output_type": "stream",
          "name": "stdout",
          "text": [
            "Drive already mounted at /content/drive; to attempt to forcibly remount, call drive.mount(\"/content/drive\", force_remount=True).\n"
          ]
        }
      ]
    },
    {
      "cell_type": "code",
      "metadata": {
        "id": "FnEovQN2D6sT"
      },
      "source": [
        "# Importando Bibliotecas e preparando o ambiente\n",
        "import pandas as pd\n",
        "import numpy as np\n",
        "import matplotlib.pyplot as plt\n",
        "import seaborn as sns\n",
        "import plotly.express as px\n",
        "%matplotlib inline"
      ],
      "execution_count": 114,
      "outputs": []
    },
    {
      "cell_type": "code",
      "metadata": {
        "colab": {
          "base_uri": "https://localhost:8080/"
        },
        "id": "soyTYFyUKDMi",
        "outputId": "c980e57b-d733-40fc-c9cf-8077ec813304"
      },
      "source": [
        "# Importando base de dados e criando dataframe\n",
        "address = '/content/drive/MyDrive/Colab Notebooks/Data Scienc Degree/03 - Modulo: Bibliotecas e APIs/Projeto/'\n",
        "df_olimpiadas = pd.read_csv(address + 'athlete_events.csv')\n",
        "df_olimpiadas.drop_duplicates()\n",
        "df_olimpiadas.info()"
      ],
      "execution_count": 116,
      "outputs": [
        {
          "output_type": "stream",
          "name": "stdout",
          "text": [
            "<class 'pandas.core.frame.DataFrame'>\n",
            "RangeIndex: 271116 entries, 0 to 271115\n",
            "Data columns (total 15 columns):\n",
            " #   Column  Non-Null Count   Dtype  \n",
            "---  ------  --------------   -----  \n",
            " 0   ID      271116 non-null  int64  \n",
            " 1   Name    271116 non-null  object \n",
            " 2   Sex     271116 non-null  object \n",
            " 3   Age     261642 non-null  float64\n",
            " 4   Height  210945 non-null  float64\n",
            " 5   Weight  208241 non-null  float64\n",
            " 6   Team    271116 non-null  object \n",
            " 7   NOC     271116 non-null  object \n",
            " 8   Games   271116 non-null  object \n",
            " 9   Year    271116 non-null  int64  \n",
            " 10  Season  271116 non-null  object \n",
            " 11  City    271116 non-null  object \n",
            " 12  Sport   271116 non-null  object \n",
            " 13  Event   271116 non-null  object \n",
            " 14  Medal   39783 non-null   object \n",
            "dtypes: float64(3), int64(2), object(10)\n",
            "memory usage: 31.0+ MB\n"
          ]
        }
      ]
    },
    {
      "cell_type": "markdown",
      "metadata": {
        "id": "XPakII1_D6sU"
      },
      "source": [
        "## 1. O Brasil nas Olimpíadas\n",
        "\n",
        "Vamos começar filtrando novamente os dados que iremos trabalhar. Crie um DataFrame contendo apenas informações sobre atletas **medalhistas** brasileiros."
      ]
    },
    {
      "cell_type": "code",
      "metadata": {
        "colab": {
          "base_uri": "https://localhost:8080/",
          "height": 272
        },
        "id": "BS92j48BD6sV",
        "outputId": "4efe557a-eea0-45ae-c1ae-7c8811c8a0fa"
      },
      "source": [
        "df_medalhistas_brasileiros = df_olimpiadas.dropna(axis=0, how='any',subset=['Medal'])[df_olimpiadas['NOC']=='BRA']\n",
        "df_medalhistas_brasileiros.reset_index(inplace=True)\n",
        "df_medalhistas_brasileiros.head()"
      ],
      "execution_count": 117,
      "outputs": [
        {
          "output_type": "stream",
          "name": "stderr",
          "text": [
            "/usr/local/lib/python3.7/dist-packages/ipykernel_launcher.py:1: UserWarning:\n",
            "\n",
            "Boolean Series key will be reindexed to match DataFrame index.\n",
            "\n"
          ]
        },
        {
          "output_type": "execute_result",
          "data": {
            "text/html": [
              "<div>\n",
              "<style scoped>\n",
              "    .dataframe tbody tr th:only-of-type {\n",
              "        vertical-align: middle;\n",
              "    }\n",
              "\n",
              "    .dataframe tbody tr th {\n",
              "        vertical-align: top;\n",
              "    }\n",
              "\n",
              "    .dataframe thead th {\n",
              "        text-align: right;\n",
              "    }\n",
              "</style>\n",
              "<table border=\"1\" class=\"dataframe\">\n",
              "  <thead>\n",
              "    <tr style=\"text-align: right;\">\n",
              "      <th></th>\n",
              "      <th>index</th>\n",
              "      <th>ID</th>\n",
              "      <th>Name</th>\n",
              "      <th>Sex</th>\n",
              "      <th>Age</th>\n",
              "      <th>Height</th>\n",
              "      <th>Weight</th>\n",
              "      <th>Team</th>\n",
              "      <th>NOC</th>\n",
              "      <th>Games</th>\n",
              "      <th>Year</th>\n",
              "      <th>Season</th>\n",
              "      <th>City</th>\n",
              "      <th>Sport</th>\n",
              "      <th>Event</th>\n",
              "      <th>Medal</th>\n",
              "    </tr>\n",
              "  </thead>\n",
              "  <tbody>\n",
              "    <tr>\n",
              "      <th>0</th>\n",
              "      <td>1651</td>\n",
              "      <td>918</td>\n",
              "      <td>Ademir Roque Kaefer</td>\n",
              "      <td>M</td>\n",
              "      <td>24.0</td>\n",
              "      <td>179.0</td>\n",
              "      <td>74.0</td>\n",
              "      <td>Brazil</td>\n",
              "      <td>BRA</td>\n",
              "      <td>1984 Summer</td>\n",
              "      <td>1984</td>\n",
              "      <td>Summer</td>\n",
              "      <td>Los Angeles</td>\n",
              "      <td>Football</td>\n",
              "      <td>Football Men's Football</td>\n",
              "      <td>Silver</td>\n",
              "    </tr>\n",
              "    <tr>\n",
              "      <th>1</th>\n",
              "      <td>1652</td>\n",
              "      <td>918</td>\n",
              "      <td>Ademir Roque Kaefer</td>\n",
              "      <td>M</td>\n",
              "      <td>28.0</td>\n",
              "      <td>179.0</td>\n",
              "      <td>74.0</td>\n",
              "      <td>Brazil</td>\n",
              "      <td>BRA</td>\n",
              "      <td>1988 Summer</td>\n",
              "      <td>1988</td>\n",
              "      <td>Summer</td>\n",
              "      <td>Seoul</td>\n",
              "      <td>Football</td>\n",
              "      <td>Football Men's Football</td>\n",
              "      <td>Silver</td>\n",
              "    </tr>\n",
              "    <tr>\n",
              "      <th>2</th>\n",
              "      <td>1668</td>\n",
              "      <td>925</td>\n",
              "      <td>Adenzia Aparecida Ferreira da Silva</td>\n",
              "      <td>F</td>\n",
              "      <td>25.0</td>\n",
              "      <td>187.0</td>\n",
              "      <td>65.0</td>\n",
              "      <td>Brazil</td>\n",
              "      <td>BRA</td>\n",
              "      <td>2012 Summer</td>\n",
              "      <td>2012</td>\n",
              "      <td>Summer</td>\n",
              "      <td>London</td>\n",
              "      <td>Volleyball</td>\n",
              "      <td>Volleyball Women's Volleyball</td>\n",
              "      <td>Gold</td>\n",
              "    </tr>\n",
              "    <tr>\n",
              "      <th>3</th>\n",
              "      <td>1733</td>\n",
              "      <td>966</td>\n",
              "      <td>Daniel Adler</td>\n",
              "      <td>M</td>\n",
              "      <td>26.0</td>\n",
              "      <td>180.0</td>\n",
              "      <td>72.0</td>\n",
              "      <td>Brazil</td>\n",
              "      <td>BRA</td>\n",
              "      <td>1984 Summer</td>\n",
              "      <td>1984</td>\n",
              "      <td>Summer</td>\n",
              "      <td>Los Angeles</td>\n",
              "      <td>Sailing</td>\n",
              "      <td>Sailing Mixed Three Person Keelboat</td>\n",
              "      <td>Silver</td>\n",
              "    </tr>\n",
              "    <tr>\n",
              "      <th>4</th>\n",
              "      <td>1856</td>\n",
              "      <td>1020</td>\n",
              "      <td>Adriana Aparecida dos Santos</td>\n",
              "      <td>F</td>\n",
              "      <td>25.0</td>\n",
              "      <td>180.0</td>\n",
              "      <td>61.0</td>\n",
              "      <td>Brazil</td>\n",
              "      <td>BRA</td>\n",
              "      <td>1996 Summer</td>\n",
              "      <td>1996</td>\n",
              "      <td>Summer</td>\n",
              "      <td>Atlanta</td>\n",
              "      <td>Basketball</td>\n",
              "      <td>Basketball Women's Basketball</td>\n",
              "      <td>Silver</td>\n",
              "    </tr>\n",
              "  </tbody>\n",
              "</table>\n",
              "</div>"
            ],
            "text/plain": [
              "   index    ID  ...                                Event   Medal\n",
              "0   1651   918  ...              Football Men's Football  Silver\n",
              "1   1652   918  ...              Football Men's Football  Silver\n",
              "2   1668   925  ...        Volleyball Women's Volleyball    Gold\n",
              "3   1733   966  ...  Sailing Mixed Three Person Keelboat  Silver\n",
              "4   1856  1020  ...        Basketball Women's Basketball  Silver\n",
              "\n",
              "[5 rows x 16 columns]"
            ]
          },
          "metadata": {},
          "execution_count": 117
        }
      ]
    },
    {
      "cell_type": "markdown",
      "metadata": {
        "id": "RV8MwFRBD6sV"
      },
      "source": [
        "Vamos caracterizar fisicamente nossos medalhistas, verificando se há alguma correlação entre o desempenho em certos esportes e o tipo físico dos atletas. \n",
        "\n",
        "Gere um gráfico de barras contendo os diferentes esportes no eixo X e a altura dos atletas no eixo Y. Utilize barras lado-a-lado para separar atletas do sexo masculino e feminino."
      ]
    },
    {
      "cell_type": "code",
      "metadata": {
        "colab": {
          "base_uri": "https://localhost:8080/",
          "height": 111
        },
        "id": "tmAorDzXD6sW",
        "outputId": "45394694-b7e5-40ea-dc80-adcb4d76dd8b"
      },
      "source": [
        "masculino = df_medalhistas_brasileiros[df_medalhistas_brasileiros['Sex']=='M'].groupby(\n",
        "                                    by=['Sport'])['Height'].mean().rename('masculino')\n",
        "                                    \n",
        "feminino = df_medalhistas_brasileiros[df_medalhistas_brasileiros['Sex']=='F'].groupby(\n",
        "                                    by=['Sport'])['Height'].mean().rename('feminino')\n",
        "\n",
        "df_sexo_altura = pd.concat([masculino, feminino], axis=1,names=True)\n",
        "\n",
        "df_sexo_altura.head(2)"
      ],
      "execution_count": 118,
      "outputs": [
        {
          "output_type": "execute_result",
          "data": {
            "text/html": [
              "<div>\n",
              "<style scoped>\n",
              "    .dataframe tbody tr th:only-of-type {\n",
              "        vertical-align: middle;\n",
              "    }\n",
              "\n",
              "    .dataframe tbody tr th {\n",
              "        vertical-align: top;\n",
              "    }\n",
              "\n",
              "    .dataframe thead th {\n",
              "        text-align: right;\n",
              "    }\n",
              "</style>\n",
              "<table border=\"1\" class=\"dataframe\">\n",
              "  <thead>\n",
              "    <tr style=\"text-align: right;\">\n",
              "      <th></th>\n",
              "      <th>masculino</th>\n",
              "      <th>feminino</th>\n",
              "    </tr>\n",
              "  </thead>\n",
              "  <tbody>\n",
              "    <tr>\n",
              "      <th>Athletics</th>\n",
              "      <td>181.320000</td>\n",
              "      <td>173.000</td>\n",
              "    </tr>\n",
              "    <tr>\n",
              "      <th>Basketball</th>\n",
              "      <td>187.592593</td>\n",
              "      <td>183.375</td>\n",
              "    </tr>\n",
              "  </tbody>\n",
              "</table>\n",
              "</div>"
            ],
            "text/plain": [
              "             masculino  feminino\n",
              "Athletics   181.320000   173.000\n",
              "Basketball  187.592593   183.375"
            ]
          },
          "metadata": {},
          "execution_count": 118
        }
      ]
    },
    {
      "cell_type": "code",
      "metadata": {
        "colab": {
          "base_uri": "https://localhost:8080/",
          "height": 355
        },
        "id": "2C7YHqz9RS5u",
        "outputId": "fdf43e1c-d9f5-4900-b3b2-949a83c6d02d"
      },
      "source": [
        "# Grafico\n",
        "barWidth = 0.25\n",
        "plt.figure(figsize=(20,5))\n",
        "\n",
        "r1 = np.arange(df_sexo_altura['masculino'].size)\n",
        "r2 = [x + barWidth for x in r1]\n",
        "\n",
        "plt.bar(r1, df_sexo_altura['masculino'], color='blue', width=barWidth, label='Masculino');\n",
        "plt.bar(r2, df_sexo_altura['feminino'], color='red' , width=barWidth, label='Feminino' );\n",
        "\n",
        "plt.xlabel('Sports')\n",
        "plt.xticks([r + barWidth for r in range(df_sexo_altura['masculino'].size)], df_sexo_altura.index)\n",
        "plt.ylabel('Altura média')\n",
        "plt.title('Média da altura dos medalhistas por esporte e sexo')\n",
        "\n",
        "sns.set()\n",
        "plt.legend()\n",
        "plt.show()"
      ],
      "execution_count": 106,
      "outputs": [
        {
          "output_type": "display_data",
          "data": {
            "image/png": "[encoded data removed]",
            "text/plain": [
              "<Figure size 1440x360 with 1 Axes>"
            ]
          },
          "metadata": {}
        }
      ]
    },
    {
      "cell_type": "markdown",
      "metadata": {
        "id": "789CKxD_D6sX"
      },
      "source": [
        "Agora gere um gráfico semelhante ilustrando o peso dos atletas."
      ]
    },
    {
      "cell_type": "code",
      "metadata": {
        "id": "8vtPGPHID6sX",
        "colab": {
          "base_uri": "https://localhost:8080/",
          "height": 111
        },
        "outputId": "4769c099-7c21-4786-efd2-638d9e6e58a9"
      },
      "source": [
        "masculino = df_medalhistas_brasileiros[df_medalhistas_brasileiros['Sex']=='M'].groupby(\n",
        "                                    by=['Sport'])['Weight'].mean().rename('masculino')\n",
        "                                    \n",
        "feminino = df_medalhistas_brasileiros[df_medalhistas_brasileiros['Sex']=='F'].groupby(\n",
        "                                    by=['Sport'])['Weight'].mean().rename('feminino')\n",
        "\n",
        "df_sexo_peso = pd.concat([masculino, feminino], axis=1,names=True)\n",
        "\n",
        "df_sexo_peso.head(2)"
      ],
      "execution_count": 119,
      "outputs": [
        {
          "output_type": "execute_result",
          "data": {
            "text/html": [
              "<div>\n",
              "<style scoped>\n",
              "    .dataframe tbody tr th:only-of-type {\n",
              "        vertical-align: middle;\n",
              "    }\n",
              "\n",
              "    .dataframe tbody tr th {\n",
              "        vertical-align: top;\n",
              "    }\n",
              "\n",
              "    .dataframe thead th {\n",
              "        text-align: right;\n",
              "    }\n",
              "</style>\n",
              "<table border=\"1\" class=\"dataframe\">\n",
              "  <thead>\n",
              "    <tr style=\"text-align: right;\">\n",
              "      <th></th>\n",
              "      <th>masculino</th>\n",
              "      <th>feminino</th>\n",
              "    </tr>\n",
              "  </thead>\n",
              "  <tbody>\n",
              "    <tr>\n",
              "      <th>Athletics</th>\n",
              "      <td>75.120000</td>\n",
              "      <td>61.000</td>\n",
              "    </tr>\n",
              "    <tr>\n",
              "      <th>Basketball</th>\n",
              "      <td>85.954545</td>\n",
              "      <td>71.625</td>\n",
              "    </tr>\n",
              "  </tbody>\n",
              "</table>\n",
              "</div>"
            ],
            "text/plain": [
              "            masculino  feminino\n",
              "Athletics   75.120000    61.000\n",
              "Basketball  85.954545    71.625"
            ]
          },
          "metadata": {},
          "execution_count": 119
        }
      ]
    },
    {
      "cell_type": "code",
      "metadata": {
        "colab": {
          "base_uri": "https://localhost:8080/",
          "height": 355
        },
        "id": "yceOwkLYHVQQ",
        "outputId": "2229a8ed-124a-4555-c013-520268151e08"
      },
      "source": [
        "barWidth = 0.25\n",
        "plt.figure(figsize=(20,5))\n",
        "\n",
        "r1 = np.arange(df_sexo_peso['masculino'].size)\n",
        "r2 = [x + barWidth for x in r1]\n",
        "\n",
        "plt.bar(r1, df_sexo_peso['masculino'], color='blue', width=barWidth, label='Masculino');\n",
        "plt.bar(r2, df_sexo_peso['feminino'], color='red' , width=barWidth, label='Feminino' );\n",
        "\n",
        "plt.xlabel('Sports')\n",
        "plt.xticks([r + barWidth for r in range(df_sexo_peso['masculino'].size)], df_sexo_peso.index)\n",
        "plt.ylabel('Peso médio')\n",
        "plt.title('Média da peso dos medalhistas por esporte e sexo')\n",
        "\n",
        "sns.set()\n",
        "plt.legend()\n",
        "plt.show()"
      ],
      "execution_count": 184,
      "outputs": [
        {
          "output_type": "display_data",
          "data": {
            "image/png": "[encoded data removed]",
            "text/plain": [
              "<Figure size 1440x360 with 1 Axes>"
            ]
          },
          "metadata": {}
        }
      ]
    },
    {
      "cell_type": "markdown",
      "metadata": {
        "id": "dYI24t0AD6sY"
      },
      "source": [
        "Vamos analisar agora as medalhas que nossos atletas trouxeram para casa.\n",
        "\n",
        "Encontre os maiores medalhistas brasileiros em **total de medalhas**. Em seguida, faça um gráfico de barras empilhadas. No eixo X coloque o nome dos atletas, e no eixo Y coloque o número de medalhas. Utilize as barras empilhadas para mostrar, respectivamente, as medalhas de bronze, prata e ouro de cada atleta."
      ]
    },
    {
      "cell_type": "code",
      "metadata": {
        "id": "JjqacycuOVFf"
      },
      "source": [
        "gold_series = df_medalhistas_brasileiros[df_medalhistas_brasileiros['Medal']=='Gold'].groupby(by=['Name']).count()['Medal'].rename('Gold')\n",
        "silver_series = df_medalhistas_brasileiros[df_medalhistas_brasileiros['Medal']=='Silver'].groupby(by=['Name']).count()['Medal'].rename('Silver')\n",
        "bronze_series = df_medalhistas_brasileiros[df_medalhistas_brasileiros['Medal']=='Bronze'].groupby(by=['Name']).count()['Medal'].rename('Bronze')\n",
        "\n",
        "df_atletas = pd.concat([gold_series, silver_series, bronze_series], axis=1, names=True)\n",
        "df_atletas.fillna(0, inplace=True)\n",
        "df_atletas['(S + B)'] = df_atletas['Bronze']+df_atletas['Silver']\n",
        "df_atletas['(G + S + B)'] = df_atletas['(S + B)']+df_atletas['Gold']\n",
        "\n",
        "df_maiores_atletas = df_atletas[df_atletas['(G + S + B)']>3]"
      ],
      "execution_count": 181,
      "outputs": []
    },
    {
      "cell_type": "code",
      "metadata": {
        "id": "9sr8gi_4D6sZ",
        "colab": {
          "base_uri": "https://localhost:8080/",
          "height": 322
        },
        "outputId": "316fea0c-6428-4d1d-8361-111eb41aa533"
      },
      "source": [
        "plt.figure(figsize=(15,5))\n",
        "\n",
        "plt.bar(df_maiores_atletas.index, df_maiores_atletas['(G + S + B)'], color=['gold'], label='Gold',width=0.5);\n",
        "plt.bar(df_maiores_atletas.index, df_maiores_atletas['(S + B)'], color=['silver'], label='Silver',width=0.5);\n",
        "plt.bar(df_maiores_atletas.index, df_maiores_atletas['Bronze'], color=['orange'], label='Bronze',width=0.5);\n",
        "\n",
        "plt.legend();"
      ],
      "execution_count": 182,
      "outputs": [
        {
          "output_type": "display_data",
          "data": {
            "image/png": "[encoded data removed]",
            "text/plain": [
              "<Figure size 1080x360 with 1 Axes>"
            ]
          },
          "metadata": {
            "needs_background": "light"
          }
        }
      ]
    },
    {
      "cell_type": "markdown",
      "metadata": {
        "id": "3PZQBgC7D6sZ"
      },
      "source": [
        "Agora gere o mesmo gráfico de barras empilhadas substituindo os nomes dos atletas pelo nome de todos os esportes onde o Brasil já ganhou medalhas.\n",
        "\n",
        "**DICA:** tome muito cuidado nessa análise: cada **evento esportivo** rende 1 medalha. Por exemplo, quando a equipe de futebol vence, isso é considerado 1 medalha, mesmo tendo cerca de 20 atletas medalhistas na equipe. "
      ]
    },
    {
      "cell_type": "code",
      "metadata": {
        "id": "nmQ1trHtD6sa"
      },
      "source": [
        "df_eventos = df_medalhistas_brasileiros.drop_duplicates(subset=['Year','Event', 'Medal'])\n",
        "gold_series = df_eventos[df_eventos['Medal']=='Gold'].groupby(by=['Sport']).count()['Medal'].rename('Gold')\n",
        "silver_series = df_eventos[df_eventos['Medal']=='Silver'].groupby(by=['Sport']).count()['Medal'].rename('Silver')\n",
        "bronze_series = df_eventos[df_eventos['Medal']=='Bronze'].groupby(by=['Sport']).count()['Medal'].rename('Bronze')\n",
        "\n",
        "df_esportes = pd.concat([gold_series, silver_series, bronze_series], axis=1, names=True)\n",
        "df_esportes.fillna(0, inplace=True)\n",
        "df_esportes['(S + B)'] = df_esportes['Bronze']+df_esportes['Silver']\n",
        "df_esportes['(G + S + B)'] = df_esportes['(S + B)']+df_esportes['Gold']\n",
        "\n",
        "df_esportes"
      ],
      "execution_count": null,
      "outputs": []
    },
    {
      "cell_type": "code",
      "metadata": {
        "colab": {
          "base_uri": "https://localhost:8080/",
          "height": 322
        },
        "id": "PEYXLtPgcQqy",
        "outputId": "2d5e8947-95b0-4990-ea4e-1ff35dde010a"
      },
      "source": [
        "plt.figure(figsize=(25,5))\n",
        "\n",
        "plt.bar(df_esportes.index, df_esportes['(G + S + B)'], color=['gold'], label='Gold',width=0.5);\n",
        "plt.bar(df_esportes.index, df_esportes['(S + B)'], color=['silver'], label='Silver',width=0.5);\n",
        "plt.bar(df_esportes.index, df_esportes['Bronze'], color=['orange'], label='Bronze',width=0.5);\n",
        "\n",
        "plt.legend();"
      ],
      "execution_count": 195,
      "outputs": [
        {
          "output_type": "display_data",
          "data": {
            "image/png": "[encoded data removed]",
            "text/plain": [
              "<Figure size 1800x360 with 1 Axes>"
            ]
          },
          "metadata": {}
        }
      ]
    },
    {
      "cell_type": "markdown",
      "metadata": {
        "id": "c5PKVpf8D6sb"
      },
      "source": [
        "Mais um gráfico de barras empilhadas: agora mostre os **eventos esportivos** que renderam medalhas para o Brasil.\n",
        "\n",
        "Lembrando: cada \"categoria\" dentro de um esporte é considerado um evento. Por exemplo, dentro de \"atletismo\", temos uma competição de 100m masculina, uma de 100m feminino, um revezamento 4 x 100m masculino, um revezamento 4 x 100m feminino, uma competição de 400m masculino, uma de 400m feminino, uma maratona masculina, uma maratona feminina, e assim sucessivamente."
      ]
    },
    {
      "cell_type": "code",
      "metadata": {
        "id": "jFEy3G25D6sc"
      },
      "source": [
        ""
      ],
      "execution_count": null,
      "outputs": []
    },
    {
      "cell_type": "markdown",
      "metadata": {
        "id": "HSiUujjqD6sc"
      },
      "source": [
        "Utilize um gráfico de distribuição (como um histograma, por exemplo) ilustrando a quantidade total de medalhas do Brasil por esporte."
      ]
    },
    {
      "cell_type": "code",
      "metadata": {
        "id": "kV7a7VN2D6sc"
      },
      "source": [
        ""
      ],
      "execution_count": null,
      "outputs": []
    },
    {
      "cell_type": "markdown",
      "metadata": {
        "id": "ICDdpYnLD6sd"
      },
      "source": [
        "Repita o procedimento acima, mas com medalhas de ouro."
      ]
    },
    {
      "cell_type": "code",
      "metadata": {
        "id": "WcAyjkf_D6sd"
      },
      "source": [
        ""
      ],
      "execution_count": null,
      "outputs": []
    },
    {
      "cell_type": "markdown",
      "metadata": {
        "id": "JNqXDvHAD6sd"
      },
      "source": [
        "Agora faça um gráfico de setores (pizza) mostrando a distribuição de medalhas de ouro do Brasil por esporte."
      ]
    },
    {
      "cell_type": "code",
      "metadata": {
        "id": "Pr_wiUsLD6se"
      },
      "source": [
        ""
      ],
      "execution_count": null,
      "outputs": []
    },
    {
      "cell_type": "markdown",
      "metadata": {
        "id": "cleaTmDtD6se"
      },
      "source": [
        "Para finalizar a história do Brasil, vamos ver a série temporal de medalhas brasileiras. Crie um gráfico de linhas contendo 3 linhas: ouro, prata e bronze. Coloque no eixo X a edição da olimpíada (em ordem cronológica) e no eixo Y o total de medalhas de cada tipo."
      ]
    },
    {
      "cell_type": "code",
      "metadata": {
        "id": "5nHOfq6vD6se"
      },
      "source": [
        ""
      ],
      "execution_count": null,
      "outputs": []
    },
    {
      "cell_type": "markdown",
      "metadata": {
        "id": "f6fbUDx9D6se"
      },
      "source": [
        "## 2. O mundo nos jogos de verão\n",
        "\n",
        "Filtre o DataFrame original para conter apenas informações sobre os **medalhistas** de todos os países **nos jogos de verão**.\n",
        "\n"
      ]
    },
    {
      "cell_type": "code",
      "metadata": {
        "id": "Yzot95JhD6se"
      },
      "source": [
        ""
      ],
      "execution_count": null,
      "outputs": []
    },
    {
      "cell_type": "markdown",
      "metadata": {
        "id": "oFmEzwbeD6se"
      },
      "source": [
        "Utilizando subplots, crie 2 boxplots ilustrando a quantidade de medalhas por atleta. Em um deles, considere todos os atletas. No segundo, experimente remover os *outliers*."
      ]
    },
    {
      "cell_type": "code",
      "metadata": {
        "id": "bsotbRs8D6sf"
      },
      "source": [
        ""
      ],
      "execution_count": null,
      "outputs": []
    },
    {
      "cell_type": "markdown",
      "metadata": {
        "id": "pEGYJTE5D6sf"
      },
      "source": [
        "Descubra o total de medalhas de ouro de cada país (lembrando-se da restrição dos eventos esportivos, para não contabilizar múltiplas medalhas em esportes de equipe!).\n",
        "\n",
        "Agora pegue os 10 países com mais medalhas e crie uma categoria \"Outros\" para o restante dos países. Exiba um gráfico de pizza mostrando a distribuição de medalhas de ouro entre essas 11 \"equipes\"."
      ]
    },
    {
      "cell_type": "code",
      "metadata": {
        "id": "uZ_Ob_JHD6sf"
      },
      "source": [
        ""
      ],
      "execution_count": null,
      "outputs": []
    },
    {
      "cell_type": "markdown",
      "metadata": {
        "id": "BJ92kLZcD6sf"
      },
      "source": [
        "Repita o procedimento acima, mas mostrando o total de medalhas ao invés de apenas medalhas de ouro."
      ]
    },
    {
      "cell_type": "code",
      "metadata": {
        "id": "LUHJj7xkD6sf"
      },
      "source": [
        ""
      ],
      "execution_count": null,
      "outputs": []
    },
    {
      "cell_type": "markdown",
      "metadata": {
        "id": "veQ5aF03D6sf"
      },
      "source": [
        "Crie um gráfico de barras empilhadas, com cada país das categorias acima no eixo X, total de medalhas no eixo Y, e barras empilhadas representando as medalhas de ouro, prata e bronze de cada país."
      ]
    },
    {
      "cell_type": "code",
      "metadata": {
        "id": "5YAI7DEhD6sg"
      },
      "source": [
        ""
      ],
      "execution_count": null,
      "outputs": []
    },
    {
      "cell_type": "markdown",
      "metadata": {
        "id": "xx_Q0PzLD6sg"
      },
      "source": [
        "Crie um gráfico de distribuição (por exemplo, um histograma) mostrando a quantidade total de medalhas por país."
      ]
    },
    {
      "cell_type": "code",
      "metadata": {
        "id": "EUG5zxasD6sg"
      },
      "source": [
        ""
      ],
      "execution_count": null,
      "outputs": []
    },
    {
      "cell_type": "markdown",
      "metadata": {
        "id": "66sQCQVlD6sg"
      },
      "source": [
        "**Desafio bônus:** Crie uma visualização da quantidade de medalhas de ouro e outra para quantidade total de medalhas por país, ambas utilizando mapas. Utilize o tipo de mapa que achar mais adequado."
      ]
    },
    {
      "cell_type": "code",
      "metadata": {
        "id": "vAGWHwBgD6sg"
      },
      "source": [
        ""
      ],
      "execution_count": null,
      "outputs": []
    },
    {
      "cell_type": "markdown",
      "metadata": {
        "id": "ISKmC7ZED6sg"
      },
      "source": [
        "## 3. Brasil vs Mundo"
      ]
    },
    {
      "cell_type": "markdown",
      "metadata": {
        "id": "gS2bENOZD6sh"
      },
      "source": [
        "Faça um gráfico de barras comparando os maiores medalhistas brasileiros com os maiores medalhistas do mundo em suas respectivas categorias.\n",
        "\n",
        "Represente o esporte no eixo X, a quantidade de medalhas no eixo Y, coloque barras lado-a-lado representando os diferentes atletas de uma mesma modalidade e empilhe as medalhas de ouro, prata e bronze de cada atleta."
      ]
    },
    {
      "cell_type": "code",
      "metadata": {
        "id": "0MB7CdcZD6sh"
      },
      "source": [
        ""
      ],
      "execution_count": null,
      "outputs": []
    },
    {
      "cell_type": "markdown",
      "metadata": {
        "id": "wv71Taa2D6sh"
      },
      "source": [
        "Repita o procedimento acima, mas ao invés de atletas, considere o(s) esporte(s) onde o Brasil mais possui medalha comparando-os com o país com maior quantidade de medalhas naquele esporte."
      ]
    },
    {
      "cell_type": "code",
      "metadata": {
        "id": "puO9f9X-D6sh"
      },
      "source": [
        ""
      ],
      "execution_count": null,
      "outputs": []
    },
    {
      "cell_type": "markdown",
      "metadata": {
        "id": "yOZXNDGhD6sh"
      },
      "source": [
        "Para finalizar, repita os gráficos que você gerou com os 10 países com mais medalhas, mas remova o Brasil da categoria \"Outros\" e mostre-o também no gráfico."
      ]
    },
    {
      "cell_type": "code",
      "metadata": {
        "id": "-1mLxUjqD6sh"
      },
      "source": [
        ""
      ],
      "execution_count": null,
      "outputs": []
    }
  ]
}