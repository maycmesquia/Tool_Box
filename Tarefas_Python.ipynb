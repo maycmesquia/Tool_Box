{
  "nbformat": 4,
  "nbformat_minor": 0,
  "metadata": {
    "colab": {
      "name": "Tarefas Python",
      "provenance": [],
      "collapsed_sections": [],
      "toc_visible": true,
      "authorship_tag": "ABX9TyOJZ/cnWU0BoVYbungWH+YQ",
      "include_colab_link": true
    },
    "kernelspec": {
      "name": "python3",
      "display_name": "Python 3"
    },
    "language_info": {
      "name": "python"
    }
  },
  "cells": [
    {
      "cell_type": "markdown",
      "metadata": {
        "id": "view-in-github",
        "colab_type": "text"
      },
      "source": [
        "<a href=\"https://colab.research.google.com/github/maycmesquia/Tool_Box/blob/main/Tarefas_Python.ipynb\" target=\"_parent\"><img src=\"https://colab.research.google.com/assets/colab-badge.svg\" alt=\"Open In Colab\"/></a>"
      ]
    },
    {
      "cell_type": "markdown",
      "metadata": {
        "id": "iMQ4mvcn9sCU"
      },
      "source": [
        "Exercicio de listas, criar listas com os dados da turma, uma contendo nome, outra o sexo, outra contendo o peso e outra a altura, e gerar uma terceira conteno o IMC de cada um!"
      ]
    },
    {
      "cell_type": "code",
      "metadata": {
        "id": "65ALkVdt5FB2"
      },
      "source": [
        "# Criando listas para serem povoadas!\n",
        "\n",
        "Lnomes = []\n",
        "Lsexo = []\n",
        "Lpeso = []\n",
        "Laltura = []\n",
        "Limc = []\n",
        "Lsequencia = []\n",
        "\n",
        "# Criando funções que serão utilizadas!\n",
        "\n",
        "def linhas(msg):\n",
        "  print(\"-\" * 50)\n",
        "  print(msg.center(50, \" \"))\n",
        "  print(\"-\" * 50)\n",
        "\n",
        "def cadastro(nome, sexo, peso, altura, imc, sequencia):\n",
        "  Lnomes.append(nome)\n",
        "  Lsexo.append(sexo)\n",
        "  Lpeso.append(peso)\n",
        "  Laltura.append(altura)\n",
        "  Limc.append(imc)\n",
        "  Lsequencia.append(sequencia)\n",
        "\n",
        "\n",
        "#CalculoImc = pass\n",
        "\n",
        "#Criando Menu"
      ],
      "execution_count": null,
      "outputs": []
    },
    {
      "cell_type": "code",
      "metadata": {
        "id": "zsfDbYVmIp4S"
      },
      "source": [
        "linhas(\"1 - Cadastro e Alteração\")\n",
        "linhas(\"2 - Consulta de Informações\")\n",
        "int(input(\"Selecione a opção: \"))"
      ],
      "execution_count": null,
      "outputs": []
    },
    {
      "cell_type": "code",
      "metadata": {
        "colab": {
          "base_uri": "https://localhost:8080/"
        },
        "id": "X-x3QFipNhSS",
        "outputId": "f937b6d0-4463-4451-edb3-e351f938b488"
      },
      "source": [
        "#Cadastros de dados:\n",
        "print(\"Adicione os dados desejados!\")\n",
        "nome = str(input(\"Digite o nome: \"))\n",
        "sexo = str(input(\"Digite o sexo(m ou f): \"))\n",
        "peso = float(input(\"Digite o peso (em Kg): \"))\n",
        "altura = float(input(\"Digite a altura(em metros): \"))\n",
        "imc = float(round(peso / altura **2, 2))\n",
        "sequencia = len(Lnomes) + 1\n",
        "salvar = input(f\"Deseja cadastrar {nome}, sexo: {sexo}, peso: {peso}, altura: {altura} e IMC: {imc}, na posição {sequencia} s/n ? \")\n"
      ],
      "execution_count": null,
      "outputs": [
        {
          "output_type": "stream",
          "text": [
            "Adicione os dados desejados!\n",
            "Digite o nome: Maycon\n",
            "Digite o sexo(m ou f): m\n",
            "Digite o peso (em Kg): 98\n",
            "Digite a altura(em metros): 1.73\n",
            "Deseja cadastrar Maycon, sexo: m, peso: 98.0, altura: 1.73 e IMC: 32.74, na posição 7 s/n ? s\n"
          ],
          "name": "stdout"
        }
      ]
    },
    {
      "cell_type": "code",
      "metadata": {
        "colab": {
          "base_uri": "https://localhost:8080/"
        },
        "id": "8bWq5IBdZ27b",
        "outputId": "f588e683-11b8-4b98-8d9a-4870390e6e02"
      },
      "source": [
        "if salvar == \"s\":\n",
        "  cadastro( nome, sexo, peso, altura, imc, sequencia)\n",
        "  print(\"Cadastro realizado com sucesso!!!\")\n",
        "else:\n",
        "  print(\"Dados descartados com sucesso!!!\")"
      ],
      "execution_count": null,
      "outputs": [
        {
          "output_type": "stream",
          "text": [
            "Cadastro realizado com sucesso!!!\n"
          ],
          "name": "stdout"
        }
      ]
    },
    {
      "cell_type": "code",
      "metadata": {
        "colab": {
          "base_uri": "https://localhost:8080/"
        },
        "id": "Ty9qVsBpa95e",
        "outputId": "320a1171-86d9-468b-c035-5821ce97956a"
      },
      "source": [
        "print(Lnomes)\n",
        "print(Lsexo)\n",
        "print(Lpeso)\n",
        "print(Laltura)\n",
        "print(Limc)\n",
        "print(Lsequencia)\n"
      ],
      "execution_count": null,
      "outputs": [
        {
          "output_type": "stream",
          "text": [
            "['Maycon', 'Maycon']\n",
            "['m', 'm']\n",
            "[98.0, 98.0]\n",
            "[1.73, 1.73]\n",
            "[32.74, 32.74]\n",
            "[7, 7]\n"
          ],
          "name": "stdout"
        }
      ]
    },
    {
      "cell_type": "code",
      "metadata": {
        "colab": {
          "base_uri": "https://localhost:8080/",
          "height": 35
        },
        "id": "6G8QizpeoFcb",
        "outputId": "bfedc4fc-fc21-4341-c04b-0bf89b3d7ffe"
      },
      "source": [
        "seguro = [[\"a\",\"b\",\"c\",\"d\",\"e\"],[\"m\",\"g\",\"h\",\"i\"],[\"t\",\"y\",\"u\",\"z\"]]\n",
        "seguro[2][2]\n"
      ],
      "execution_count": null,
      "outputs": [
        {
          "output_type": "execute_result",
          "data": {
            "application/vnd.google.colaboratory.intrinsic+json": {
              "type": "string"
            },
            "text/plain": [
              "'u'"
            ]
          },
          "metadata": {
            "tags": []
          },
          "execution_count": 69
        }
      ]
    },
    {
      "cell_type": "markdown",
      "metadata": {
        "id": "BpQabehyzCoF"
      },
      "source": [
        "# Tarefas: While loop\n"
      ]
    },
    {
      "cell_type": "markdown",
      "metadata": {
        "id": "oHoWNvPWzGTc"
      },
      "source": [
        "## Questão 1\n",
        "Faça um script que peça para um usuário digitar um número e que só finaliza quando o usuário digitar 0."
      ]
    },
    {
      "cell_type": "code",
      "metadata": {
        "colab": {
          "base_uri": "https://localhost:8080/"
        },
        "id": "F2VBd5V7zUzw",
        "outputId": "ccf5901a-bb9c-4c8e-8078-2e805d65aa97"
      },
      "source": [
        "n = float(input(\"Digite um numero (0 para sair): \"))\n",
        "\n",
        "while(n != 0):\n",
        "    n = float(input(\"Digite outro numero (0 para sair): \"))"
      ],
      "execution_count": null,
      "outputs": [
        {
          "output_type": "stream",
          "text": [
            "Digite um numero (0 para sair): 4\n",
            "Digite outro numero (0 para sair): 8\n",
            "Digite outro numero (0 para sair): 6\n",
            "Digite outro numero (0 para sair): 0\n"
          ],
          "name": "stdout"
        }
      ]
    },
    {
      "cell_type": "markdown",
      "metadata": {
        "id": "JgnQ7V_Azs9g"
      },
      "source": [
        "## Questão 2\n",
        "Faça um script que peça para o usuário digitar a idade, o salário e o sexo de uma pessoa até que as entradas digitadas sejam válidas.\n",
        "\n",
        "Idade: entre 0 e 150;\n",
        "\n",
        "Salário: maior que 0;\n",
        "\n",
        "Gênero: M, F ou Outro.\n",
        "\n",
        "Por último imprima os dados recebidos do usuário."
      ]
    },
    {
      "cell_type": "code",
      "metadata": {
        "id": "N-Hcvijgzx-Y"
      },
      "source": [
        "idade = int(input(\"Digite sua idade: \"))\n",
        "\n",
        "while not(0 < idade < 150):\n",
        "    idade = int(input(\"Digite sua idade (Maior que 0 e menor que 150): \"))\n",
        "\n",
        "salario = float(input(\"Digite seu salario: \"))\n",
        "\n",
        "while salario <= 0:\n",
        "    salario = float(input(\"Digite seu salario (Maior que 0): \"))\n",
        "\n",
        "genero = input(\"Digite seu genero (M/F/Outro): \")\n",
        "\n",
        "while genero != \"M\" and genero != \"F\" and genero != \"Outro\":\n",
        "    genero = input(\"Digite seu genero (M/F/Outro): \")\n",
        "\n",
        "print(f\"Você tem {idade} anos, ganha R${salario} e se indentifica como {genero}\")"
      ],
      "execution_count": null,
      "outputs": []
    },
    {
      "cell_type": "markdown",
      "metadata": {
        "id": "sA-aZeVB0LLC"
      },
      "source": [
        "## Questão 3\n",
        "Faça um script que peça ao usuário para digitar um número n e some todos os números de 1 a n."
      ]
    },
    {
      "cell_type": "code",
      "metadata": {
        "id": "SqHIMESk0XSR"
      },
      "source": [
        "# Sugestão do Brian:\n",
        "n = int(input(\"Digite um número: \")) \n",
        "i = 1 \n",
        "somatorio = 0 \n",
        "while i <= n: \n",
        "    somatorio += i \n",
        "    i += 1 \n",
        "    print(\"Somatoria: \", somatorio)"
      ],
      "execution_count": null,
      "outputs": []
    },
    {
      "cell_type": "code",
      "metadata": {
        "colab": {
          "base_uri": "https://localhost:8080/"
        },
        "id": "o3GK9NDE0rWY",
        "outputId": "8abb25a5-1d8d-4f42-ee59-dffa57645445"
      },
      "source": [
        "# Minha resposta:\n",
        "n = int(input(\"Digite um numero: \")) \n",
        "c=0 \n",
        "while n != 0: \n",
        "    c = c + n \n",
        "    n -= 1 \n",
        "else: print(c)"
      ],
      "execution_count": null,
      "outputs": [
        {
          "output_type": "stream",
          "text": [
            "Digite um numero: 8\n",
            "36\n"
          ],
          "name": "stdout"
        }
      ]
    },
    {
      "cell_type": "markdown",
      "metadata": {
        "id": "7wEuVlo41xCq"
      },
      "source": [
        "## Qustão 4\n",
        "Faça um script que peça para um usuário digitar um número e que só finaliza quando o usuário digitar 0. Ao final imprima a soma de todos os números digitados.\n"
      ]
    },
    {
      "cell_type": "code",
      "metadata": {
        "colab": {
          "base_uri": "https://localhost:8080/"
        },
        "id": "Dv7XjrjQ19j4",
        "outputId": "b1eb59e2-3b86-4c38-f494-783928cc5651"
      },
      "source": [
        "n = float(input(\"Digite um número: \")) \n",
        "somatoria = n \n",
        "while n != 0: \n",
        "    n = float(input(\"Digite um número (0 para finalizar): \")) \n",
        "    somatoria += n \n",
        "print(\"Somatoria: \", somatoria)"
      ],
      "execution_count": null,
      "outputs": [
        {
          "output_type": "stream",
          "text": [
            "Digite um número: 5\n",
            "Digite um número (0 para finalizar): 6\n",
            "Digite um número (0 para finalizar): 8\n",
            "Digite um número (0 para finalizar): 0\n",
            "Somatoria:  19.0\n"
          ],
          "name": "stdout"
        }
      ]
    },
    {
      "cell_type": "markdown",
      "metadata": {
        "id": "dtE7uu5k2Nt-"
      },
      "source": [
        "## Qustão 5\n",
        "Faça um programa que recebe um número inteiro do usuário e imprime na tela a quantidade de divisores desse número e quais são eles."
      ]
    },
    {
      "cell_type": "code",
      "metadata": {
        "colab": {
          "base_uri": "https://localhost:8080/"
        },
        "id": "gI_oYpzw2gSh",
        "outputId": "fd0ede4d-280b-4974-d5b9-f99afd96c5ea"
      },
      "source": [
        "numero = int(input( \"Digite um numero inteiro que você deseja saber os divisores: \")) \n",
        "cont = 1 \n",
        "total_divisores = 1 \n",
        "while cont < numero : \n",
        "    if numero % cont == 0: \n",
        "        print(f\"Divisor: {cont}\") \n",
        "        total_divisores += 1 \n",
        "    cont += 1 \n",
        "else : \n",
        "    print(f\"Divisor: {numero}\") \n",
        "    print(f\"Total de divisores: {total_divisores}\")"
      ],
      "execution_count": null,
      "outputs": [
        {
          "output_type": "stream",
          "text": [
            "Digite um numero inteiro que você deseja saber os divisores: 8\n",
            "Divisor: 1\n",
            "Divisor: 2\n",
            "Divisor: 4\n",
            "Divisor: 8\n",
            "Total de divisores: 4\n"
          ],
          "name": "stdout"
        }
      ]
    },
    {
      "cell_type": "code",
      "metadata": {
        "colab": {
          "base_uri": "https://localhost:8080/"
        },
        "id": "doSY74QA3f00",
        "outputId": "8df701f7-8f6a-457f-f417-3bf527ffaa4c"
      },
      "source": [
        "numero = int(input(\"Digite um número inteiro: \"))\n",
        "divisor = 1 # variável incremental \n",
        "quantidade_divisores = 0 # variável para guardar o número de divisores\n",
        "\n",
        "while divisor <= numero:\n",
        "  if numero % divisor == 0: # verifica se o resto da divisão é zero (se for, é divisor)\n",
        "    quantidade_divisores += 1 # se for divisor, aumenta o número de divisores em 1\n",
        "    print(\"Divisor\",quantidade_divisores,\":\",divisor)\n",
        "  divisor += 1 # incrementa a variável de contagem\n",
        "print(\"Número de divisores:\",quantidade_divisores)"
      ],
      "execution_count": null,
      "outputs": [
        {
          "output_type": "stream",
          "text": [
            "Digite um número inteiro: 8\n",
            "Divisor 1 : 1\n",
            "Divisor 2 : 2\n",
            "Divisor 3 : 4\n",
            "Divisor 4 : 8\n",
            "Número de divisores: 4\n"
          ],
          "name": "stdout"
        }
      ]
    },
    {
      "cell_type": "markdown",
      "metadata": {
        "id": "CT7uVUqgv8MT"
      },
      "source": [
        "# Tarefas de Listas\n",
        "\n",
        "---\n",
        "\n"
      ]
    },
    {
      "cell_type": "markdown",
      "metadata": {
        "id": "B32aJRDiueFS"
      },
      "source": [
        "## Questão 3 \n",
        "\n",
        "\n",
        "Faça um programa que peça 10 números para o usuário e \n",
        "guarde os números em uma lista. Imprima os itens da lista preenchida de trás para frente."
      ]
    },
    {
      "cell_type": "code",
      "metadata": {
        "id": "R3Fs9JIxuaP9"
      },
      "source": [
        "lista = []\n",
        "\n",
        "while len(lista) < 10:\n",
        "  lista.append ( int(input(\"Digite um numero: \")))\n",
        "  \n",
        "else:\n",
        "  \n",
        "  print(lista[::-1])\n",
        "  \n"
      ],
      "execution_count": null,
      "outputs": []
    },
    {
      "cell_type": "markdown",
      "metadata": {
        "id": "jZoS1sD5BxFd"
      },
      "source": [
        "## Questão 4\n",
        "Faça um script que peça para o usuário digitar um número N e imprima uma lista com todos os números de 0 a N-1."
      ]
    },
    {
      "cell_type": "code",
      "metadata": {
        "colab": {
          "base_uri": "https://localhost:8080/"
        },
        "id": "12Wi-5rSB7GL",
        "outputId": "6d62db2c-4815-43b7-a95a-91494d2895a2"
      },
      "source": [
        "NumeroMaximo = int(input(\"Digite o numero máximo que deseja: \"))\n",
        "contador = 0\n",
        "sequencia=[]\n",
        "while contador < NumeroMaximo:\n",
        "  sequencia.append(contador)\n",
        "  contador += 1\n",
        "else:\n",
        "  print(sequencia)"
      ],
      "execution_count": null,
      "outputs": [
        {
          "output_type": "stream",
          "text": [
            "Digite o numero máximo que deseja: 5\n",
            "[0, 1, 2, 3, 4]\n"
          ],
          "name": "stdout"
        }
      ]
    },
    {
      "cell_type": "markdown",
      "metadata": {
        "id": "ZtVHtFxVFXlD"
      },
      "source": [
        "## Qustão 5\n",
        "Faça um programa que leia nome e idade de 5 pessoas e coloque os nomes em uma lista e como idades em outra. Apresente como duas listas preenchidas."
      ]
    },
    {
      "cell_type": "code",
      "metadata": {
        "id": "ncB5BnStFe_e"
      },
      "source": [
        "Nomes = []\n",
        "Idades = []\n",
        "contador = 0\n",
        "while contador < 5:\n",
        "  Nomes.append(input(\"Digite o nome: \"))\n",
        "  Idades.append(int(input(\"Digite a idade: \")))\n",
        "  contador += 1\n",
        "\n",
        "else:\n",
        "  print(Nomes)\n",
        "  print(Idades)\n"
      ],
      "execution_count": null,
      "outputs": []
    },
    {
      "cell_type": "markdown",
      "metadata": {
        "id": "16fVrOCcH6Dz"
      },
      "source": [
        "## Questão 6\n",
        "Faça um script que leia 10 números do usuário e devolva duas listas: uma com os números ímpares e outra com os números pares."
      ]
    },
    {
      "cell_type": "code",
      "metadata": {
        "id": "XGDZNFU5IAWe"
      },
      "source": [
        "NumerosPares = []\n",
        "NumerosImpares = []\n",
        "contador = 0\n",
        "while contador < 10:\n",
        "  numero = int(input(\"Digite um numero: \"))\n",
        "  if numero % 2 == 0:\n",
        "    NumerosPares.append(numero)\n",
        "  else:\n",
        "    NumerosImpares.append(numero)\n",
        "  contador += 1\n",
        "\n",
        "else:\n",
        "  print(f\"Números pares: {NumerosPares}\")\n",
        "  print(f\"Números impares: {NumerosImpares}\")"
      ],
      "execution_count": null,
      "outputs": []
    },
    {
      "cell_type": "markdown",
      "metadata": {
        "id": "1plKAjxeKAaR"
      },
      "source": [
        "##Questão 7\n",
        "Faça um script que leia números do usuário, enquanto ele não digitar 0. Armazene esses números em uma lista e ao final informe quantos números foram digitados, ignorando o 0.\n",
        "\n"
      ]
    },
    {
      "cell_type": "code",
      "metadata": {
        "colab": {
          "base_uri": "https://localhost:8080/"
        },
        "id": "h1Du6q6YKHE0",
        "outputId": "0a148027-693a-4723-94f7-c470e9c10e89"
      },
      "source": [
        "numero = int(input(\"Digite um numero: \"))\n",
        "Numeros = []\n",
        "\n",
        "while numero != 0:\n",
        "  Numeros.append(numero)\n",
        "  numero = int(input(\"Digite um numero: \"))\n",
        "\n",
        "else:\n",
        "  print(f\"Foram digitados {len(Numeros)} numeros.\\nNumeros digitados: {Numeros}\")"
      ],
      "execution_count": null,
      "outputs": [
        {
          "output_type": "stream",
          "text": [
            "Digite um numero: 4\n",
            "Digite um numero: 6\n",
            "Digite um numero: 3\n",
            "Digite um numero: 7\n",
            "Digite um numero: 0\n",
            "Foram digitados 4 numeros.\n",
            "Numeros digitados: [4, 6, 3, 7]\n"
          ],
          "name": "stdout"
        }
      ]
    },
    {
      "cell_type": "markdown",
      "metadata": {
        "id": "NXtXniLUN0ie"
      },
      "source": [
        "# Tarefas de For loop\n",
        "\n",
        "\n",
        "---\n",
        "\n"
      ]
    },
    {
      "cell_type": "markdown",
      "metadata": {
        "id": "CMTRpY3pN7Sk"
      },
      "source": [
        "## Questão 2\n",
        "Faça um script que imprima na tela todos os pares entre 0 e 1000. Quantos pares existem nesse intervalo?"
      ]
    },
    {
      "cell_type": "code",
      "metadata": {
        "colab": {
          "base_uri": "https://localhost:8080/"
        },
        "id": "VFT-w5qnOExq",
        "outputId": "ab7e7e7f-36ea-49eb-97c7-dd9abaa551e5"
      },
      "source": [
        "lista=list(range(2,101,2))\n",
        "print(lista)\n",
        "print(len(lista))"
      ],
      "execution_count": null,
      "outputs": [
        {
          "output_type": "stream",
          "text": [
            "[2, 4, 6, 8, 10, 12, 14, 16, 18, 20, 22, 24, 26, 28, 30, 32, 34, 36, 38, 40, 42, 44, 46, 48, 50, 52, 54, 56, 58, 60, 62, 64, 66, 68, 70, 72, 74, 76, 78, 80, 82, 84, 86, 88, 90, 92, 94, 96, 98, 100]\n",
            "50\n"
          ],
          "name": "stdout"
        }
      ]
    },
    {
      "cell_type": "code",
      "metadata": {
        "id": "JMTfsn05tpil"
      },
      "source": [
        "lista = list(range(1,101))\n",
        "lista_par = []\n",
        "\n",
        "for valor in lista:\n",
        "\n",
        "  if valor % 2 == 0:\n",
        "    lista_par.append(valor)\n",
        "    print(valor)\n",
        "  continue\n",
        "print(f\"Foram encontrados {len(lista_par)} numeros pares!\")\n"
      ],
      "execution_count": null,
      "outputs": []
    },
    {
      "cell_type": "markdown",
      "metadata": {
        "id": "VI797hBZ2NxA"
      },
      "source": [
        "## Questão 3\n",
        "Faça um script que informe o fatorial de um número:"
      ]
    },
    {
      "cell_type": "code",
      "metadata": {
        "colab": {
          "base_uri": "https://localhost:8080/"
        },
        "id": "_z1XzsiG2UjU",
        "outputId": "290bca6f-d14d-4f10-8da0-5c171244d496"
      },
      "source": [
        "numero = int(input(\"Insira o numero que deseja o valor fatorial: \"))\n",
        "fator = list(range(1,numero + 1))\n",
        "fatorial = 1\n",
        "\n",
        "for valor in fator:\n",
        "  fatorial = fatorial * valor\n",
        "\n",
        "print(fatorial)\n",
        "\n"
      ],
      "execution_count": null,
      "outputs": [
        {
          "output_type": "stream",
          "text": [
            "Insira o numero que deseja o valor fatorial: 3\n",
            "6\n"
          ],
          "name": "stdout"
        }
      ]
    },
    {
      "cell_type": "markdown",
      "metadata": {
        "id": "S8ULKPYI30rL"
      },
      "source": [
        "## Questão 4\n",
        "Informe, de forma decrescente todos os pares entre N (número fornecido pelo usuário) e -N."
      ]
    },
    {
      "cell_type": "code",
      "metadata": {
        "colab": {
          "base_uri": "https://localhost:8080/"
        },
        "id": "-ewBn3_838wO",
        "outputId": "9ad19d49-86c9-4c78-c1dd-4abfab120e37"
      },
      "source": [
        "numero = int(input(\"Digite um valor: \"))\n",
        "lista = list(range(numero, (numero +1) * -1, -1))\n",
        "\n",
        "for valor in lista:\n",
        "  if valor % 2 == 0: # Estou incluindo o 0 (zero) mas outra solução que excluisse ele seria: if valor != 0 and valor % 2 == 0:\n",
        "    print(valor)\n",
        "  continue\n"
      ],
      "execution_count": null,
      "outputs": [
        {
          "output_type": "stream",
          "text": [
            "Digite um valor: 8\n",
            "8\n",
            "6\n",
            "4\n",
            "2\n",
            "0\n",
            "-2\n",
            "-4\n",
            "-6\n",
            "-8\n"
          ],
          "name": "stdout"
        }
      ]
    },
    {
      "cell_type": "markdown",
      "metadata": {
        "id": "4gpKVhC48FK5"
      },
      "source": [
        "## Qustão 5\n",
        "Faça um script que reproduza o padrão usando \"*\" a seguir de acordo com o número de linhas desejadas pelo usuário. Dica: print(5 * '@')"
      ]
    },
    {
      "cell_type": "code",
      "metadata": {
        "id": "y_YLLqHV8IUs"
      },
      "source": [
        "repeticao = int(input(\"Quantas vezes deseja repetir: \"))\n",
        "sequencia = list(range(1, repeticao +1))\n",
        "\n",
        "for valor in sequencia:\n",
        "  print(valor * \"*\")"
      ],
      "execution_count": null,
      "outputs": []
    },
    {
      "cell_type": "markdown",
      "metadata": {
        "id": "WdcUn-Aj9OsB"
      },
      "source": [
        "# Tarefas de Funções"
      ]
    },
    {
      "cell_type": "code",
      "metadata": {
        "colab": {
          "base_uri": "https://localhost:8080/"
        },
        "id": "IxgPkBcRxteu",
        "outputId": "16879f70-2941-450f-d6be-705d35f8d1ba"
      },
      "source": [
        "def soma(x,y):\n",
        "    result = x+y\n",
        "    return result\n",
        "\n",
        "a = int(input(\"Primeiro numero: \"))\n",
        "b = int(input(\"Segundo numero : \"))\n",
        "res = soma(a,b)\n",
        "print(\"Soma: \", res)"
      ],
      "execution_count": null,
      "outputs": [
        {
          "output_type": "stream",
          "text": [
            "Primeiro numero: 3\n",
            "Segundo numero : 5\n",
            "Soma:  8\n"
          ],
          "name": "stdout"
        }
      ]
    },
    {
      "cell_type": "markdown",
      "metadata": {
        "id": "x1743nCY9UsQ"
      },
      "source": [
        "## Questão 1\n",
        "Faça uma função que retorne o reverso de um número inteiro informado. Por exemplo: 127 -> 721."
      ]
    },
    {
      "cell_type": "code",
      "metadata": {
        "colab": {
          "base_uri": "https://localhost:8080/"
        },
        "id": "Dx5GnWl99bHL",
        "outputId": "928c630f-8e48-4f4b-c9d3-ad327515eee3"
      },
      "source": [
        "def inversor(listagem):\n",
        "  lista = listagem\n",
        "  return (lista[:: -1])\n",
        "\n",
        "numero = str(input(\"Inorme o numero que deseja o inverso: \"))\n",
        "\n",
        "print(inversor(numero))"
      ],
      "execution_count": null,
      "outputs": [
        {
          "output_type": "stream",
          "text": [
            "Inorme o numero que deseja o inverso: 349\n",
            "943\n"
          ],
          "name": "stdout"
        }
      ]
    },
    {
      "cell_type": "code",
      "metadata": {
        "colab": {
          "base_uri": "https://localhost:8080/"
        },
        "id": "rjXetjyeAj8T",
        "outputId": "65ec6ac1-0256-4a6e-eeb6-d03babb7e50d"
      },
      "source": [
        "def inversor(listagem):\n",
        "  print(listagem[:: -1])\n",
        "\n",
        "numero = str(input(\"Inorme o numero que deseja o inverso: \"))\n",
        "\n",
        "inversor(numero)"
      ],
      "execution_count": null,
      "outputs": [
        {
          "output_type": "stream",
          "text": [
            "Inorme o numero que deseja o inverso: 6805\n",
            "5086\n"
          ],
          "name": "stdout"
        }
      ]
    },
    {
      "cell_type": "markdown",
      "metadata": {
        "id": "1KUVZ6TDnrr1"
      },
      "source": [
        "## Qustão 2\n",
        "Faça um programa para imprimir:\n",
        "para um n informado pelo usuário. Use uma função que receba um valor n inteiro imprima até a n-ésima linha."
      ]
    },
    {
      "cell_type": "code",
      "metadata": {
        "colab": {
          "base_uri": "https://localhost:8080/"
        },
        "id": "zp6HJB9EoMHy",
        "outputId": "49c52f3e-5668-4e90-f55f-012b9c62e9f6"
      },
      "source": [
        "#Funções a serem repetidas:\n",
        "def espacos(valor):\n",
        "    contador = 1\n",
        "    \n",
        "    while contador > 0 and contador <= valor:\n",
        "        if contador == 1:\n",
        "            print(f\"{' ' * 10}{contador}\")\n",
        "            contador += 1\n",
        "        elif contador >1 and contador <= valor:\n",
        "            print(f\"{espacos(contador-1)}{' ' * 10}{contador}\")\n",
        "            contador += 1\n",
        "\n",
        "\n",
        "\n",
        "linhas = int(input(\"Informe a quantidades de linhas desejadas: \"))\n",
        "\n",
        "espacos(linhas)"
      ],
      "execution_count": null,
      "outputs": [
        {
          "output_type": "stream",
          "text": [
            "Informe a quantidades de linhas desejadas: 3\n",
            "          1\n",
            "          1\n",
            "None          2\n",
            "          1\n",
            "          1\n",
            "None          2\n",
            "None          3\n"
          ],
          "name": "stdout"
        }
      ]
    },
    {
      "cell_type": "code",
      "metadata": {
        "colab": {
          "base_uri": "https://localhost:8080/"
        },
        "id": "qsvK124FfeBv",
        "outputId": "506d2728-ccd2-4d12-ca72-1177fd27febe"
      },
      "source": [
        "def espacos(numero):\n",
        "    vazio = \"     \"\n",
        "    for valor in range(1,numero + 1):\n",
        "        if valor == 1:\n",
        "            linha = vazio + str(valor)\n",
        "            print(linha)\n",
        "        else:\n",
        "            linha = linha + vazio + str(valor)\n",
        "            print(linha)\n",
        "\n",
        "\n",
        "linhas = int(input(\"Informe a quantidades de linhas desejadas: \"))\n",
        "\n",
        "espacos(linhas)"
      ],
      "execution_count": null,
      "outputs": [
        {
          "output_type": "stream",
          "text": [
            "Informe a quantidades de linhas desejadas: 5\n",
            "     1\n",
            "     1     2\n",
            "     1     2     3\n",
            "     1     2     3     4\n",
            "     1     2     3     4     5\n"
          ],
          "name": "stdout"
        }
      ]
    },
    {
      "cell_type": "markdown",
      "metadata": {
        "id": "2O9NYEX4n847"
      },
      "source": [
        "\n",
        "\n",
        "---\n",
        "\n",
        "\n",
        "## Questão 3\n",
        "\n",
        "Faça uma função que verifique se um valor é perfeito ou não. Um valor é dito perfeito quando ele é igual a soma dos seus divisores excetuando ele próprio. (Ex: 6 é perfeito, 6 = 1 + 2 + 3, que são seus divisores). A função deve retornar um valor booleano.\n"
      ]
    },
    {
      "cell_type": "code",
      "metadata": {
        "colab": {
          "base_uri": "https://localhost:8080/"
        },
        "id": "XoGdIdLxYP-l",
        "outputId": "8f5a1931-43fd-4c3a-e4fd-bd91639f916c"
      },
      "source": [
        "def verificar(valor):\n",
        "    soma = 0\n",
        "    for divisor in range(1 , valor):\n",
        "        if valor % divisor == 0:\n",
        "            soma += divisor  \n",
        "    if soma == valor :\n",
        "        print(f\"O valor {valor} é um numero perfeito\")\n",
        "    else:\n",
        "        print(f\"O valor {valor} não é perfeito\")\n",
        "\n",
        "\n",
        "numero_a_verificar = int(input(\"Digite o numero que queira veificar: \"))\n",
        "verificar(numero_a_verificar)\n"
      ],
      "execution_count": null,
      "outputs": [
        {
          "output_type": "stream",
          "text": [
            "Digite o numero que queira veificar: 2\n",
            "O valor 2 não é perfeito\n"
          ],
          "name": "stdout"
        }
      ]
    },
    {
      "cell_type": "markdown",
      "metadata": {
        "id": "1BnI9A5D1Ne1"
      },
      "source": [
        "## Questão 4 \n",
        "Faça um programa com duas funções: uma chamada \"calculaImposto\". A função possui dois parâmetros formais: taxaImposto, que é a quantia de imposto sobre vendas expressa em porcentagem e custo, que é o custo de um item antes do imposto e irá retornar a taxa de imposto. E uma função “alteraValor” que recebe o valor de custo e a taxa de imposto para incluir o imposto sobre vendas e retorna esse novo valor."
      ]
    },
    {
      "cell_type": "code",
      "metadata": {
        "id": "TjI-bsvh1KQ2",
        "colab": {
          "base_uri": "https://localhost:8080/"
        },
        "outputId": "7c365907-d5a3-4973-d9a9-83f6f0a39ee6"
      },
      "source": [
        "def calculaImposto(taxa, custo):\n",
        "    imposto = round((taxa/100)*custo, 2)\n",
        "    print(f\"O valor do imposto é de R$ {imposto}\")\n",
        "\n",
        "def alteraValor(custo, taxa):\n",
        "    valorFinal = round( custo * (1+(taxa/100)), 2)\n",
        "    print(f\"O valor final do produto é R$ {valorFinal}\")\n",
        "\n",
        "valorAquisicao = float(input(\"Insira o valor de custo: R$ \"))\n",
        "percentual = float(input(\"Insira a taxa de imposto (%): \"))\n",
        "calculaImposto(percentual, valorAquisicao)\n",
        "alteraValor(valorAquisicao, percentual)\n",
        "\n",
        "    "
      ],
      "execution_count": null,
      "outputs": [
        {
          "output_type": "stream",
          "text": [
            "Insira o valor de custo: R$ 150\n",
            "Insira a taxa de imposto (%): 25\n",
            "O valor do imposto é de R$ 37.5\n",
            "O valor final do produto é R$ 187.5\n"
          ],
          "name": "stdout"
        }
      ]
    },
    {
      "cell_type": "markdown",
      "metadata": {
        "id": "vtiB5D-c7L7v"
      },
      "source": [
        "## Questão 5\n",
        "Construa uma função que receba três aqrgumentios (dia, mes e ano em inteiros) e devolva uma string no formato Dia de mesPorExtenso de AAAA."
      ]
    },
    {
      "cell_type": "code",
      "metadata": {
        "id": "IYq-Pb7O7Opl",
        "colab": {
          "base_uri": "https://localhost:8080/"
        },
        "outputId": "8bf48db7-af44-484b-a2df-d0297105c0b3"
      },
      "source": [
        "dia = int(input(\"Digite o dia: \"))\n",
        "mes = int(input(\"Digite o mês: \"))\n",
        "ano = int(input(\"Digite o ano: \"))\n",
        "meses = [0, \"janeiro\", \"fevereiro\", \"março\", \"abril\", \"maio\", \"junho\", \"julho\", \"agosto\", \"setembro\", \"outubro\", \"novembro\", \"dezembro\"]\n",
        "\n",
        "print(f\"{dia} de {meses[mes]} de {ano}\")"
      ],
      "execution_count": null,
      "outputs": [
        {
          "output_type": "stream",
          "text": [
            "Digite o dia: 24\n",
            "Digite o mês: 5\n",
            "Digite o ano: 1993\n",
            "24 de maio de 1993\n"
          ],
          "name": "stdout"
        }
      ]
    },
    {
      "cell_type": "markdown",
      "metadata": {
        "id": "DhRyx0tKp_1W"
      },
      "source": [
        "# Tarefas de Dicionario"
      ]
    },
    {
      "cell_type": "code",
      "metadata": {
        "colab": {
          "base_uri": "https://localhost:8080/"
        },
        "id": "hT2RBEXgn8yC",
        "outputId": "0d36c712-0ff4-4f65-c19c-4190fda70243"
      },
      "source": [
        "cliente_000016 = {'nome': 'Jose Francisco', 'Nascimento': '16/05/1968', 'endereco': 'Rua Machado Pontes'}\n",
        "\n",
        "print(type(cliente_000016))\n"
      ],
      "execution_count": null,
      "outputs": [
        {
          "output_type": "stream",
          "text": [
            "<class 'dict'>\n"
          ],
          "name": "stdout"
        }
      ]
    },
    {
      "cell_type": "markdown",
      "metadata": {
        "id": "x6EAQxkCqDzF"
      },
      "source": [
        "## Questão 2\n",
        "Faça um script que receba os valores do nome, idade e e-mail de uma pessoa e guarde-os em um dicionário com as chaves ‘nome’, ‘idade’ e ‘email’, respectivamente. Exiba as informações desse dicionário."
      ]
    },
    {
      "cell_type": "code",
      "metadata": {
        "id": "NZHMnOhFqKUt",
        "colab": {
          "base_uri": "https://localhost:8080/"
        },
        "outputId": "80f13585-88c9-412b-d1a1-34f596922edf"
      },
      "source": [
        "dados = {}\n",
        "dados['nome'] = input(\"Digite o seu nome: \")\n",
        "dados['idade'] = int(input(\"Digite a sua idade: \"))\n",
        "dados['e-mail'] = input(\"digite o seu e-mail \")\n",
        "print(dados)"
      ],
      "execution_count": null,
      "outputs": [
        {
          "output_type": "stream",
          "text": [
            "Digite o seu nome: maycon\n",
            "Digite a sua idade: 25\n",
            "digite o seu e-mail mjuy\n",
            "{'nome': 'maycon', 'idade': 25, 'e-mail': 'mjuy'}\n"
          ],
          "name": "stdout"
        }
      ]
    },
    {
      "cell_type": "markdown",
      "metadata": {
        "id": "8Ta0k5Mxr7S5"
      },
      "source": [
        "## Questão 3\n",
        "Faça um programa que leia 10 números do usuário e os coloque corretamente no dicionário D abaixo.\n",
        "\n",
        "D = {'pares': [], 'impares':[]}"
      ]
    },
    {
      "cell_type": "code",
      "metadata": {
        "id": "vYemWtstr_hR",
        "colab": {
          "base_uri": "https://localhost:8080/"
        },
        "outputId": "b30ae182-b4ac-413a-fe6a-4350b1fc6379"
      },
      "source": [
        "contador = 1\n",
        "pares = []\n",
        "impares = []\n",
        "D={'pares': pares, 'impares': impares}\n",
        "\n",
        "while contador < 11:\n",
        "    numero = int(input(f\"Digite o {contador}º numero: \"))\n",
        "    if numero % 2 == 0:\n",
        "        pares.append(numero)\n",
        "        contador += 1\n",
        "    else:\n",
        "        impares.append(numero)\n",
        "        contador += 1\n",
        "print(D)"
      ],
      "execution_count": null,
      "outputs": [
        {
          "output_type": "stream",
          "text": [
            "Digite o 1º numero: 5\n",
            "Digite o 2º numero: 6\n",
            "Digite o 3º numero: 8\n",
            "Digite o 4º numero: 7\n",
            "Digite o 5º numero: 1\n",
            "Digite o 6º numero: 8\n",
            "Digite o 7º numero: 9\n",
            "Digite o 8º numero: 4\n",
            "Digite o 9º numero: 7\n",
            "Digite o 10º numero: 2\n",
            "{'pares': [6, 8, 8, 4, 2], 'impares': [5, 7, 1, 9, 7]}\n"
          ],
          "name": "stdout"
        }
      ]
    },
    {
      "cell_type": "markdown",
      "metadata": {
        "id": "zuk8qiiIuH93"
      },
      "source": [
        "## Questão 4\n",
        "Faça um script que leia uma frase do usuário e use um dicionário que apresente as palavras e a frequêcia de sua aparição na frase."
      ]
    },
    {
      "cell_type": "code",
      "metadata": {
        "id": "HuWyJtICuODt",
        "colab": {
          "base_uri": "https://localhost:8080/"
        },
        "outputId": "9cf2c8f8-af49-4892-ac19-89dd0f9ed486"
      },
      "source": [
        "Frase = str(input(\"Digite a frase: \"))\n",
        "lista = Frase.split()\n",
        "\n",
        "palavra = {}\n",
        "for texto in lista:\n",
        "    palavra[texto] = lista.count(texto)\n",
        "\n",
        "print(palavra)\n"
      ],
      "execution_count": null,
      "outputs": [
        {
          "output_type": "stream",
          "text": [
            "Digite a frase: quando acabar acabar quando depois acabar quando acabar acabar quando depois acabar quando acabar acabar quando depois acabar\n",
            "{'quando': 6, 'acabar': 9, 'depois': 3}\n"
          ],
          "name": "stdout"
        }
      ]
    },
    {
      "cell_type": "markdown",
      "metadata": {
        "id": "OUTq6wxCcmPi"
      },
      "source": [
        "## Questão 5\n",
        "Faça um script que leia uma frase do usuário e use um dicionário que apresente as letras e a frequência de aparição desta letra na frase.\n",
        "\n",
        "Exemplo\n",
        "\n",
        "input: coding tank \n",
        "\n",
        "output: {'c':1, 'o':1, 'd':1, 'i':1, 'n':2, 'g':1, 't':1, 'a':1, 'k':1}"
      ]
    },
    {
      "cell_type": "code",
      "metadata": {
        "colab": {
          "base_uri": "https://localhost:8080/"
        },
        "id": "uEE3qukTcrXD",
        "outputId": "e25f23ab-5c41-4e07-bd07-98e46bdee8b5"
      },
      "source": [
        "frase = str(input(\"Digite a frase: \"))\n",
        "\n",
        "letra = {}\n",
        "for texto in Frase:\n",
        "    letra[texto] = Frase.count(texto)\n",
        "\n",
        "print(letra)"
      ],
      "execution_count": null,
      "outputs": [
        {
          "output_type": "stream",
          "text": [
            "Digite a frase: coding tank\n",
            "{'c': 1, 'o': 1, 'd': 1, 'i': 1, 'n': 2, 'g': 1, ' ': 1, 't': 1, 'a': 1, 'k': 1}\n"
          ],
          "name": "stdout"
        }
      ]
    },
    {
      "cell_type": "markdown",
      "metadata": {
        "id": "ANkpsTpXIrXm"
      },
      "source": [
        "# prova\n"
      ]
    },
    {
      "cell_type": "markdown",
      "metadata": {
        "id": "h6ojqiCNIxVf"
      },
      "source": [
        "## Questão 1\n"
      ]
    },
    {
      "cell_type": "code",
      "metadata": {
        "id": "b1KI_DPPIq8R"
      },
      "source": [
        "import random\n",
        "\n",
        "opcoes = ['pedra', 'papel', 'tesoura']\n",
        "\n",
        "jogada_computador = random.choice(opcoes)\n",
        "\n",
        "\n",
        "def pontuacao ():\n",
        "    jogada_usuario = input(\"Escolha uma das opções para jogar ('pedra', 'papel', 'tesoura' ou 'sair'): \")\n",
        "    jogada_computador = random.choice(opcoes)\n",
        "    if jogada_usuario == \"pedra\" or jogada_usuario == \"papel\" or jogada_usuario == \"tesoura\":\n",
        "        if jogada_usuario == \"pedra\":\n",
        "            print(f\"Computador escolheu {jogada_computador}!\")\n",
        "            if jogada_computador == \"pedra\" :\n",
        "                print(\"Empate!!\")\n",
        "            elif jogada_computador == \"papel\":\n",
        "                print(\"Que pena você perdeu!!\")\n",
        "            elif jogada_computador == \"tesoura\":\n",
        "                print(\"Parabens você ganhou!!!\")\n",
        "        elif jogada_usuario == \"papel\":\n",
        "            print(f\"Computador escolheu {jogada_computador}!\")\n",
        "            if jogada_computador == \"pedra\" :\n",
        "                print(\"Parabens você ganhou!!!\")\n",
        "            elif jogada_computador == \"papel\":\n",
        "                print(\"Empate!!\")\n",
        "            elif jogada_computador == \"tesoura\":\n",
        "                print(\"Que pena você perdeu!!\")\n",
        "        elif jogada_usuario == \"tesoura\":\n",
        "            print(f\"Computador escolheu {jogada_computador}!\")\n",
        "            if jogada_computador == \"pedra\" :\n",
        "                print(\"Que pena você perdeu!!\")\n",
        "            elif jogada_computador == \"papel\":\n",
        "                print(\"Parabens você ganhou!!!\")\n",
        "            elif jogada_computador == \"tesoura\":\n",
        "                print(\"Empate!!\")\n",
        "        elif jogada_usuario == \"sair\":\n",
        "            print(\"Obrigado por jogar!!\")\n",
        "        jogar_novamente = input(\"Deseja jogar novamente (sim , nao): \")\n",
        "        if jogar_novamente == \"sim\":\n",
        "            pontuacao()\n",
        "        else:\n",
        "            print(\"Obrigado por jogar!!!\")\n",
        "    else:\n",
        "        pontuacao()\n",
        "\n",
        "\n",
        "\n",
        "\n",
        "\n",
        "pontuacao()\n"
      ],
      "execution_count": null,
      "outputs": []
    },
    {
      "cell_type": "markdown",
      "metadata": {
        "id": "QK3osGjITibG"
      },
      "source": [
        "## Questão 3"
      ]
    },
    {
      "cell_type": "code",
      "metadata": {
        "colab": {
          "base_uri": "https://localhost:8080/"
        },
        "id": "kHZcIw8nTknC",
        "outputId": "7c06aff5-fde7-4d2b-f922-1c705206f554"
      },
      "source": [
        "lista_numeros = []\n",
        "\n",
        "while len(lista_numeros) < 10:\n",
        "    valor = ( int(input(\"Digite um numero positivo: \")))\n",
        "    if valor >= 0:\n",
        "        lista_numeros.append( valor )\n",
        "\n",
        "\n",
        "for numero in lista_numeros :\n",
        "    if numero % 2 != 0 and numero % 5 != 0:\n",
        "        lista_numeros.remove(numero)\n",
        "print(lista_numeros)\n",
        "\n",
        "\n",
        "  "
      ],
      "execution_count": null,
      "outputs": [
        {
          "output_type": "stream",
          "text": [
            "Digite um numero positivo: 2\n",
            "Digite um numero positivo: 4\n",
            "Digite um numero positivo: 1\n",
            "Digite um numero positivo: 5\n",
            "Digite um numero positivo: 13\n",
            "Digite um numero positivo: 16\n",
            "Digite um numero positivo: 8\n",
            "Digite um numero positivo: 9\n",
            "Digite um numero positivo: 7\n",
            "Digite um numero positivo: 18\n",
            "[2, 4, 5, 16, 8, 7, 18]\n"
          ],
          "name": "stdout"
        }
      ]
    },
    {
      "cell_type": "markdown",
      "metadata": {
        "id": "GIIC33pRYXqK"
      },
      "source": [
        "## Questão 4\n"
      ]
    },
    {
      "cell_type": "code",
      "metadata": {
        "colab": {
          "base_uri": "https://localhost:8080/"
        },
        "id": "hZhUZk7rYYQL",
        "outputId": "dab617e1-c351-4fde-ff16-bebb30d3983c"
      },
      "source": [
        "def somaLista(listo):\n",
        "    soma = 0 \n",
        "    for valor in listo:\n",
        "        if isinstance(valor, list):\n",
        "            soma = soma + somaLista(valor)\n",
        "        elif isinstance(valor, float) or isinstance(valor, int) :\n",
        "            soma = soma + valor\n",
        "    return(soma)\n",
        "\n",
        "\n",
        "lista = [[[1,2], [3,4]],[[5,6], [[7,8],9, [10, 11, 12]]]]\n",
        "\n",
        "#total_lista_aninhada(lista) # 78\n",
        "\n",
        "somaLista(lista)\n",
        "\n"
      ],
      "execution_count": null,
      "outputs": [
        {
          "output_type": "execute_result",
          "data": {
            "text/plain": [
              "78"
            ]
          },
          "metadata": {
            "tags": []
          },
          "execution_count": 48
        }
      ]
    },
    {
      "cell_type": "markdown",
      "metadata": {
        "id": "XYvJYqticoml"
      },
      "source": [
        "## Questão 2"
      ]
    },
    {
      "cell_type": "code",
      "metadata": {
        "id": "KCZ_3NYTdCQW"
      },
      "source": [
        "def contabiliza(lista):\n",
        "    cachorros = 0\n",
        "    coelhos = 0\n",
        "    gatos = 0\n",
        "    porquinhos = 0\n",
        "    for abrigo in lista:\n",
        "        if \"cachorros\" in abrigo:\n",
        "            cachorros = abrigo[\"cachorros\"] + cachorros\n",
        "        if \"coelhos\" in abrigo:\n",
        "            coelhos = abrigo[\"coelhos\"] + coelhos\n",
        "            continue\n",
        "        if \"gatos\" in abrigo:\n",
        "            gatos = abrigo[\"gatos\"] + gatos\n",
        "        if \"porquinhos-da-índia\" in abrigo:\n",
        "            porquinhos = abrigo[\"porquinhos-da-índia\"] + porquinhos\n",
        "    print(f\"'Cachorros': {cachorros} \\n'Coelhos': {coelhos} \\n'Gatos': {gatos} \\n'Porquinhos-da-índia': {porquinhos}\")\n",
        "\n",
        "\n"
      ],
      "execution_count": null,
      "outputs": []
    },
    {
      "cell_type": "code",
      "metadata": {
        "colab": {
          "base_uri": "https://localhost:8080/"
        },
        "id": "_K1LRiLOcqu3",
        "outputId": "5ebf0e88-a607-4472-b7a3-24779534a1ef"
      },
      "source": [
        "abrigos = [\n",
        "    {\n",
        "        \"nome\": \"Recanto do Sol\",\n",
        "        \"cachorros\": 12,\n",
        "        \"gatos\": 4,\n",
        "        \"coelhos\": 2,\n",
        "    },\n",
        "    {\n",
        "        \"nome\": \"Lar dos bichos\",\n",
        "        \"cachorros\": 8,\n",
        "        \"gatos\": 5,\n",
        "        \"porquinhos-da-índia\": 3,\n",
        "    },\n",
        "    {\n",
        "        \"nome\" : \"A Fazenda\",\n",
        "        \"cachorros\": 20,\n",
        "        \"coelhos\": 10,\n",
        "    },\n",
        "    {\n",
        "        \"nome\": \"Casa da alegria\",\n",
        "        \"gatos\": 15,\n",
        "        \"porquinhos-da-índia\": 7,\n",
        "    },\n",
        "]\n",
        "\n",
        "\n",
        "\n",
        "contabiliza(abrigos)"
      ],
      "execution_count": null,
      "outputs": [
        {
          "output_type": "stream",
          "text": [
            "'Cachorros': 40 \n",
            "'Coelhos': 12 \n",
            "'Gatos': 20 \n",
            "'Porquinhos-da-índia': 10\n"
          ],
          "name": "stdout"
        }
      ]
    },
    {
      "cell_type": "code",
      "metadata": {
        "colab": {
          "base_uri": "https://localhost:8080/"
        },
        "id": "IrURE69-kWoR",
        "outputId": "59093a6c-d63d-4e30-a78d-1fbd897e1d54"
      },
      "source": [
        "abrigo = {\n",
        "        \"nome\": \"Recanto do Sol\",\n",
        "        \"cachorros\": 12,\n",
        "        \"gatos\": 4,\n",
        "        \"coelhos\": 2,\n",
        "    }\n",
        "\n",
        "abrigo[\"cachorros\"]"
      ],
      "execution_count": null,
      "outputs": [
        {
          "output_type": "execute_result",
          "data": {
            "text/plain": [
              "12"
            ]
          },
          "metadata": {
            "tags": []
          },
          "execution_count": 81
        }
      ]
    }
  ]
}